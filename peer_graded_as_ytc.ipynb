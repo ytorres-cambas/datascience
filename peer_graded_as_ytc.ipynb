{
 "cells": [
  {
   "cell_type": "markdown",
   "id": "2c8e9483-ef90-4989-9d7b-30b749420405",
   "metadata": {},
   "source": [
    "# Peer graded assignment"
   ]
  },
  {
   "cell_type": "markdown",
   "id": "bf3110c6-3008-4b62-9c29-2b163404aca1",
   "metadata": {},
   "source": [
    "## Introduction\n",
    "This a jupiter notebook with the answers to the Coursera's peer graded assignment of the Module 4, course \"Tools for Data Science\". Here you will find a combination of Markdown and code."
   ]
  },
  {
   "cell_type": "markdown",
   "id": "165a3022-82e4-40b7-9217-926c43c201eb",
   "metadata": {},
   "source": [
    "### This are the most common programming languagues used in data science\n",
    "+ Python\n",
    "+ R\n",
    "+ SQL\n",
    "+ Other languagues are Scala, Julia and C++"
   ]
  },
  {
   "cell_type": "markdown",
   "id": "78e485b2-c1d3-4087-9096-6b7e692eab67",
   "metadata": {},
   "source": [
    "### This are examples of Python libraries and their use for data science\n",
    "+ Pandas, NumPy, SciPy, Matplotlib. Used for scientific computing.\n",
    "+ PyTorch, TensorFlow, Keras, Scikit-learn. For artificial intelligence.\n",
    "+ NLTK. For natural language processing.\n"
   ]
  },
  {
   "cell_type": "markdown",
   "id": "054d70e9-d85a-43ad-880d-bba6ed2ab308",
   "metadata": {},
   "source": [
    "#### Table 1. Examples of open source tools for data science grouped by category\n",
    "Category | Tool\n",
    "--- | ---\n",
    "Data management | MySQL, PostgreSQL, Hapache Hadoop, MongoDB, CouchDB, Apache Cassandra, Ceph\n",
    "Data integration and transformation | Apache Airflow, Kubeflow, Apache Kafka, Apache NiFi, Spark SQL, Node-RED\n",
    "Data visualization | Hue, Kibana, Apache Superset\n",
    "Model deployment | Apache PredictionIO, Seldon, Mleap, TensorFlow Serving\n",
    "Model monitoring | ModelDB, Prometheus\n",
    "Code asset management | Git\n",
    "Data asset management | Apache Atlas, ODPi Egeria, Kylo\n",
    "Development environment | Jupyter Notebook, JupyterLab, Apache Zeppelin, RStudio, Spyder, Apache Spark\n",
    "Fully integrated visual tools | Knime, Orange\n"
   ]
  },
  {
   "cell_type": "markdown",
   "id": "0ed20e2b-1667-482c-aa1c-368d36a02ab0",
   "metadata": {},
   "source": [
    "### The following expressions multiply and add two numbers"
   ]
  },
  {
   "cell_type": "code",
   "execution_count": 2,
   "id": "e5037bd9-3f88-4e4c-95e6-efd2711fcf2d",
   "metadata": {
    "tags": []
   },
   "outputs": [
    {
     "name": "stdout",
     "output_type": "stream",
     "text": [
      "2\n",
      "4\n"
     ]
    }
   ],
   "source": [
    "a = 1 * 2\n",
    "b = 3 + 1\n",
    "print(a)\n",
    "print(b)"
   ]
  },
  {
   "cell_type": "code",
   "execution_count": 10,
   "id": "80da4ad5-9b5e-461a-a93f-930b83bd3fb3",
   "metadata": {
    "tags": []
   },
   "outputs": [
    {
     "name": "stdout",
     "output_type": "stream",
     "text": [
      "60 minutes equals to 1.0 hour\n"
     ]
    }
   ],
   "source": [
    "# This code transform minutes to hours\n",
    "minutes = 60\n",
    "hours = minutes / 60\n",
    "print(str(minutes) + ' minutes equals to ' + str(hours) + ' hour')"
   ]
  },
  {
   "cell_type": "markdown",
   "id": "2729ea81-60cc-44b8-aff5-f134c3abccad",
   "metadata": {},
   "source": [
    "### Objectives\n",
    "+ Objective 1\n",
    "+ Objective 2\n",
    "+ Objective 3"
   ]
  },
  {
   "cell_type": "markdown",
   "id": "82fd4b2c-9e13-49d6-9f63-55e1ffa2bb79",
   "metadata": {},
   "source": [
    "### Author: Yusdiel Torres Cambas"
   ]
  }
 ],
 "metadata": {
  "kernelspec": {
   "display_name": "Python 3 (ipykernel)",
   "language": "python",
   "name": "python3"
  },
  "language_info": {
   "codemirror_mode": {
    "name": "ipython",
    "version": 3
   },
   "file_extension": ".py",
   "mimetype": "text/x-python",
   "name": "python",
   "nbconvert_exporter": "python",
   "pygments_lexer": "ipython3",
   "version": "3.8.10"
  }
 },
 "nbformat": 4,
 "nbformat_minor": 5
}
