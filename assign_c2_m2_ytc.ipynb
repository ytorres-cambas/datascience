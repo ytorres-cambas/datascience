{
 "cells": [
  {
   "cell_type": "markdown",
   "id": "42fc93f4-a45a-493a-af6d-9f2410f6d42d",
   "metadata": {},
   "source": [
    "# My Jupyter Notebook on IBM Watson Studio"
   ]
  },
  {
   "cell_type": "markdown",
   "id": "b0eb6ceb-c6d8-40fb-8c3d-15d81c7d2010",
   "metadata": {},
   "source": [
    "**Yusdiel Torres Cambas**"
   ]
  },
  {
   "cell_type": "markdown",
   "id": "62b0acc4-df35-431d-8b60-052bb518579f",
   "metadata": {},
   "source": [
    "Postdoctoral researcher"
   ]
  },
  {
   "cell_type": "markdown",
   "id": "c4148356-f6e1-4b41-9a9e-59a0dcb4ba2d",
   "metadata": {},
   "source": [
    "*I am interested in data science because I want to use skills like data visualization, data preparation, ML and programming in Python and R to solve scientific problems related con nature conservation*"
   ]
  },
  {
   "cell_type": "markdown",
   "id": "838cda60-1938-4ff4-a97b-92c200880634",
   "metadata": {},
   "source": [
    "### This code creates two vector a and b, with values 1 and 2 respectively, and calculates a + b "
   ]
  },
  {
   "cell_type": "code",
   "execution_count": 2,
   "id": "e83f549e-916c-43a5-b233-f2e383971354",
   "metadata": {
    "tags": []
   },
   "outputs": [
    {
     "data": {
      "text/plain": [
       "3"
      ]
     },
     "execution_count": 2,
     "metadata": {},
     "output_type": "execute_result"
    }
   ],
   "source": [
    "a = 1\n",
    "b = 2\n",
    "a + b"
   ]
  },
  {
   "cell_type": "markdown",
   "id": "e095d55e-8a18-4329-b8a1-9f555926b221",
   "metadata": {},
   "source": [
    "This is a bullet list\n",
    "+ First item\n",
    "+ Second item\n",
    "+ Third item\n",
    "\n",
    "This is a numbered list\n",
    "1. First\n",
    "2. Second\n",
    "3. Third\n",
    "\n",
    "These are hyperlinks\n",
    "\n",
    "[YouTube](https://www.youtube.com/)\n",
    "\n",
    "[Google](https://www.google.com/)\n",
    "\n",
    "\n"
   ]
  },
  {
   "cell_type": "code",
   "execution_count": null,
   "id": "9de1852a-e183-4663-b33e-55043ffca899",
   "metadata": {},
   "outputs": [],
   "source": []
  }
 ],
 "metadata": {
  "kernelspec": {
   "display_name": "R",
   "language": "R",
   "name": "r"
  },
  "language_info": {
   "codemirror_mode": "r",
   "file_extension": ".r",
   "mimetype": "text/x-r-source",
   "name": "R",
   "pygments_lexer": "r",
   "version": "3.6.3"
  }
 },
 "nbformat": 4,
 "nbformat_minor": 5
}
